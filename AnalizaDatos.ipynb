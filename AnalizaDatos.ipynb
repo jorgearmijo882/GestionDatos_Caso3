import pandas as pd
from sklearn.preprocessing import StandardScaler
from sklearn.cluster import KMeans
import matplotlib.pyplot as plt

# Cargar el conjunto de datos
data_path = 'datos_clientes.csv'
df = pd.read_csv(data_path)

# Verificar la estructura del conjunto de datos
print(df.head())

# Seleccionar las características para el análisis de segmentación
X = df[['Edad', 'Compras_mes', 'Compras_anuales', 'Duración_sesiones']]

# Estandarizar las características
scaler = StandardScaler()
X_scaled = scaler.fit_transform(X)

# Aplicar el algoritmo K-Means para segmentación de clientes
num_clusters = 3  # Número de clusters (segmentos) deseado
kmeans = KMeans(n_clusters=num_clusters, random_state=42)
df['Segmento'] = kmeans.fit_predict(X_scaled)

# Mostrar los segmentos resultantes
print(df)

# Visualizar los segmentos en un gráfico de dispersión
plt.figure(figsize=(8, 6))
plt.scatter(df['Compras_mes'], df['Compras_anuales'], c=df['Segmento'], cmap='viridis')
plt.xlabel('Compras por Mes')
plt.ylabel('Compras Anuales')
plt.title('Segmentación de Clientes')
plt.colorbar(label='Segmento')
plt.show()
