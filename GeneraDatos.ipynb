import pandas as pd
import numpy as np
from faker import Faker

# Generar datos aleatorios para la tabla
np.random.seed(42)  # Para que los resultados sean reproducibles
num_filas = 100

fake = Faker()
edades = np.random.randint(18, 65, size=num_filas)  # Edades aleatorias entre 18 y 65 años
generos = ['Masculino', 'Femenino']
compras_mes = np.random.randint(1, 11, size=num_filas)  # Compras mensuales aleatorias entre 1 y 10
compras_anuales = np.random.randint(12, 101, size=num_filas)  # Compras anuales aleatorias entre 12 y 100
duracion_sesiones = np.random.randint(5, 61, size=num_filas)  # Duración de sesiones aleatorias entre 5 y 60 minutos

# Crear la tabla de datos
datos = {
    'Edad': edades,
    'Género': np.random.choice(generos, num_filas),
    'Compras_mes': compras_mes,
    'Compras_anuales': compras_anuales,
    'Duración_sesiones': duracion_sesiones
}

df = pd.DataFrame(datos)

# Guardar los datos en un archivo CSV
archivo_csv = 'datos_clientes.csv'
df.to_csv(archivo_csv, index=False)

# Mostrar la tabla
print(df)
print(f"\nLos datos se han guardado en el archivo '{archivo_csv}'.")
